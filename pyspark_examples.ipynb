{
  "nbformat": 4,
  "nbformat_minor": 0,
  "metadata": {
    "colab": {
      "provenance": [],
      "authorship_tag": "ABX9TyNW2U5r2ByL0kY2Pi2e/9ie"
    },
    "kernelspec": {
      "name": "python3",
      "display_name": "Python 3"
    },
    "language_info": {
      "name": "python"
    }
  },
  "cells": [
    {
      "cell_type": "code",
      "execution_count": 2,
      "metadata": {
        "colab": {
          "base_uri": "https://localhost:8080/"
        },
        "id": "pfbvOKSfSo8P",
        "outputId": "8e60869c-2988-49d1-8330-8e81b48a2f41"
      },
      "outputs": [
        {
          "output_type": "stream",
          "name": "stdout",
          "text": [
            "+-----------+---+-----------+\n",
            "|       name|age| department|\n",
            "+-----------+---+-----------+\n",
            "|   John Doe| 30|Engineering|\n",
            "| Jane Smith| 25|      Sales|\n",
            "|  David Lee| 35|  Marketing|\n",
            "|Sarah Jones| 28|    Finance|\n",
            "+-----------+---+-----------+\n",
            "\n"
          ]
        }
      ],
      "source": [
        "\n",
        "\n",
        "from pyspark.sql import SparkSession\n",
        "\n",
        "# Create a SparkSession\n",
        "spark = SparkSession.builder.appName(\"EmployeeDataFrame\").getOrCreate()\n",
        "\n",
        "# Create a list of employee data\n",
        "employee_data = [\n",
        "    (\"John Doe\", 30, \"Engineering\"),\n",
        "    (\"Jane Smith\", 25, \"Sales\"),\n",
        "    (\"David Lee\", 35, \"Marketing\"),\n",
        "    (\"Sarah Jones\", 28, \"Finance\")\n",
        "]\n",
        "\n",
        "# Create a DataFrame from the employee data\n",
        "employee_df = spark.createDataFrame(employee_data, [\"name\", \"age\", \"department\"])\n",
        "\n",
        "# Show the DataFrame\n",
        "employee_df.show()\n",
        "\n",
        "# Stop the SparkSession"
      ]
    },
    {
      "cell_type": "markdown",
      "source": [
        "## **withColumn function use**\n",
        "\n"
      ],
      "metadata": {
        "id": "4MlBgScnT3wz"
      }
    },
    {
      "cell_type": "code",
      "source": [
        "from pyspark.sql.functions import lit\n",
        "employee_df = employee_df.withColumn(\"isActive\", lit(\"1\"))"
      ],
      "metadata": {
        "id": "LWc1p0NvSuAX"
      },
      "execution_count": 3,
      "outputs": []
    },
    {
      "cell_type": "code",
      "source": [
        "employee_df.show()"
      ],
      "metadata": {
        "colab": {
          "base_uri": "https://localhost:8080/"
        },
        "id": "Ne4mwu29TecY",
        "outputId": "ce763253-04fa-4017-8f7b-ef67c165bd63"
      },
      "execution_count": 4,
      "outputs": [
        {
          "output_type": "stream",
          "name": "stdout",
          "text": [
            "+-----------+---+-----------+--------+\n",
            "|       name|age| department|isActive|\n",
            "+-----------+---+-----------+--------+\n",
            "|   John Doe| 30|Engineering|       1|\n",
            "| Jane Smith| 25|      Sales|       1|\n",
            "|  David Lee| 35|  Marketing|       1|\n",
            "|Sarah Jones| 28|    Finance|       1|\n",
            "+-----------+---+-----------+--------+\n",
            "\n"
          ]
        }
      ]
    },
    {
      "cell_type": "markdown",
      "source": [
        "## **Cast Function**"
      ],
      "metadata": {
        "id": "lXLODi6OUgWd"
      }
    },
    {
      "cell_type": "code",
      "source": [],
      "metadata": {
        "id": "5lzZ9LO3Udrp"
      },
      "execution_count": null,
      "outputs": []
    },
    {
      "cell_type": "markdown",
      "source": [
        "Cast function"
      ],
      "metadata": {
        "id": "7L9AmKUeUGO-"
      }
    },
    {
      "cell_type": "code",
      "source": [],
      "metadata": {
        "id": "uosSVjTyTiNa"
      },
      "execution_count": null,
      "outputs": []
    }
  ]
}